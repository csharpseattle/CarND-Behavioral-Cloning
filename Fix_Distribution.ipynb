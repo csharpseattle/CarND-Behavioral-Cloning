{
 "cells": [
  {
   "cell_type": "code",
   "execution_count": 1,
   "metadata": {},
   "outputs": [],
   "source": [
    "import csv\n",
    "import cv2\n",
    "import numpy as np\n",
    "import os\n",
    "import math\n",
    "\n",
    "from sklearn.utils import shuffle\n",
    "from sklearn.model_selection import train_test_split\n",
    "\n",
    "STEERING_CORRECTION = 0.15\n",
    "BATCH_SIZE = 512\n",
    "\n",
    "class SteeringData:\n",
    "    def __init__(self, path, angle, flipped):\n",
    "        self.path    = path\n",
    "        self.angle   = angle\n",
    "        self.flipped = flipped\n",
    "        self.shadow  = 0\n",
    "        self.bright  = 0\n",
    "        self.blur    = 0\n",
    "\n",
    "\n",
    "def read_csv(csv_file):\n",
    "    images = []\n",
    "    angles = []\n",
    "    print(\"Reading data from csv file....\")\n",
    "    with open(csv_file) as csvfile:\n",
    "        reader = csv.reader(csvfile)\n",
    "\n",
    "        csv_data = []\n",
    "\n",
    "        corrections = []\n",
    "        \n",
    "        for line in reader:\n",
    "            center_image_path = 'data/IMG/' + line[0].split('/')[-1]\n",
    "            if os.path.isfile(center_image_path):\n",
    "                center_angle = float(line[3])\n",
    "                csv_data.append(SteeringData(center_image_path, center_angle, 0))\n",
    "                csv_data.append(SteeringData(center_image_path, -center_angle, 1))\n",
    "\n",
    "            left_image_path = 'data/IMG/' + line[1].split('/')[-1]\n",
    "            if os.path.isfile(left_image_path):\n",
    "                left_angle = float(line[3]) + STEERING_CORRECTION\n",
    "                csv_data.append(SteeringData(left_image_path, left_angle, 0))\n",
    "                csv_data.append(SteeringData(left_image_path, -left_angle, 1))\n",
    "\n",
    "            right_image_path = 'data/IMG/' + line[2].split('/')[-1]\n",
    "            if os.path.isfile(right_image_path):\n",
    "                right_angle = float(line[3]) - STEERING_CORRECTION\n",
    "                csv_data.append(SteeringData(right_image_path, right_angle, 0))\n",
    "                csv_data.append(SteeringData(right_image_path, -right_angle, 1))\n",
    "\n",
    "\n",
    "    print(\"Done. \")\n",
    "    return shuffle(csv_data)\n",
    "\n"
   ]
  },
  {
   "cell_type": "code",
   "execution_count": 2,
   "metadata": {},
   "outputs": [
    {
     "name": "stdout",
     "output_type": "stream",
     "text": [
      "Reading data from csv file....\n",
      "Done. \n",
      "\n",
      "Training Set Size: 20265\n",
      "Validation Set Size: 5067\n",
      "Max correction: 0.8999119\n",
      "Min correction: -0.8999119\n"
     ]
    }
   ],
   "source": [
    "steering_data = read_csv('data/driving_log.csv')\n",
    "training_set, validation_set = train_test_split(steering_data, test_size=0.2)\n",
    "\n",
    "corrections = [item.angle for item in training_set]\n",
    "\n",
    "print(\"\\nTraining Set Size: {}\".format(str(len(training_set))))\n",
    "print(\"Validation Set Size: {}\".format(str(len(validation_set))))\n",
    "\n",
    "print(\"Max correction: {}\".format(np.max(corrections)))\n",
    "print(\"Min correction: {}\".format(np.min(corrections)))\n",
    "\n"
   ]
  },
  {
   "cell_type": "code",
   "execution_count": 3,
   "metadata": {},
   "outputs": [
    {
     "data": {
      "image/png": "[encoded data removed]",
      "text/plain": [
       "<Figure size 432x288 with 1 Axes>"
      ]
     },
     "metadata": {},
     "output_type": "display_data"
    }
   ],
   "source": [
    "import matplotlib.pyplot as plt\n",
    "%matplotlib inline\n",
    "\n",
    "#\n",
    "# Split the items into 25 bins\n",
    "# from the minimum steering angle\n",
    "# to the maximum. \n",
    "# \n",
    "bin_count = 25\n",
    "min_bin = np.min(corrections)\n",
    "max_bin = np.max(corrections)\n",
    "spread = max_bin - min_bin\n",
    "bin_size = spread / bin_count\n",
    "\n",
    "bins = [min_bin + i * bin_size for i in range(bin_count)]\n",
    "bins.append(max_bin + 0.10)\n",
    "\n",
    "#\n",
    "# Plot to visualize the initial distribution\n",
    "#\n",
    "bin_counts, bins_out = np.histogram(corrections, bins)\n",
    "plt.bar(bins, np.append(bin_counts, 0), width=0.06)\n",
    "plt.show()\n"
   ]
  },
  {
   "cell_type": "code",
   "execution_count": 4,
   "metadata": {},
   "outputs": [
    {
     "name": "stdout",
     "output_type": "stream",
     "text": [
      "\n",
      "Training Set Size: 20265\n",
      "Validation Set Size: 5067\n"
     ]
    }
   ],
   "source": [
    "import copy\n",
    "import random\n",
    "\n",
    "desired_count_per_bin = int(np.mean(bin_counts) * 1)\n",
    "augments = np.float32((desired_count_per_bin - bin_counts) / bin_counts)\n",
    "def augment_dataset(x):\n",
    "    augment_tally = np.zeros_like(augments)\n",
    "    augmented = []\n",
    "    for i in range(len(x)):\n",
    "        steering_data = x[i]\n",
    "        \n",
    "        augment_index = np.digitize(steering_data.angle, bins) - 1        \n",
    "        augment_tally[augment_index] += augments[augment_index]\n",
    "        number_to_augment = np.int32(augment_tally[augment_index])\n",
    "        augment_tally[augment_index] -= number_to_augment\n",
    "        \n",
    "        for j in range(number_to_augment):\n",
    "            new_steering_data = copy.deepcopy(steering_data)\n",
    "            new_steering_data.shadow = int(np.random.uniform(0, 1) + 0.5)\n",
    "            new_steering_data.blur   = int(np.random.uniform(0, 1) + 0.5)\n",
    "            new_steering_data.bright = int(np.random.uniform(0, 1) + 0.5)\n",
    "            augmented.append(new_steering_data)\n",
    "        \n",
    "    return augmented\n",
    "\n",
    "#augmented = augment_dataset(training_set)\n",
    "#training_set = training_set + augmented\n",
    "print(\"\\nTraining Set Size: {}\".format(str(len(training_set))))\n",
    "print(\"Validation Set Size: {}\".format(str(len(validation_set))))\n"
   ]
  },
  {
   "cell_type": "code",
   "execution_count": 5,
   "metadata": {},
   "outputs": [
    {
     "data": {
      "image/png": "[encoded data removed]",
      "text/plain": [
       "<Figure size 432x288 with 1 Axes>"
      ]
     },
     "metadata": {},
     "output_type": "display_data"
    },
    {
     "name": "stdout",
     "output_type": "stream",
     "text": [
      "[-0.8999119  -0.82791895 -0.755926   -0.68393304 -0.61194009 -0.53994714\n",
      " -0.46795419 -0.39596124 -0.32396828 -0.25197533 -0.17998238 -0.10798943\n",
      " -0.03599648  0.03599648  0.10798943  0.17998238  0.25197533  0.32396828\n",
      "  0.39596124  0.46795419  0.53994714  0.61194009  0.68393304  0.755926\n",
      "  0.82791895  0.9999119 ]\n",
      "[   3    1    4    2   34   99  186  499  589 1604 3024 2435 3299 2447 2984\n",
      " 1593  614  504  193  104   36    1    5    1    4]\n"
     ]
    }
   ],
   "source": [
    "corrections = [item.angle for item in training_set]\n",
    "bin_counts, bins = np.histogram(corrections, bins)\n",
    "plt.bar(bins, np.append(bin_counts, 0), width=0.06)\n",
    "plt.show()\n",
    "\n",
    "print(bins)\n",
    "\n",
    "print(bin_counts)\n"
   ]
  },
  {
   "cell_type": "code",
   "execution_count": 6,
   "metadata": {},
   "outputs": [
    {
     "name": "stdout",
     "output_type": "stream",
     "text": [
      "Training set size 8527\n"
     ]
    },
    {
     "data": {
      "image/png": "[encoded data removed]",
      "text/plain": [
       "<Figure size 432x288 with 1 Axes>"
      ]
     },
     "metadata": {},
     "output_type": "display_data"
    }
   ],
   "source": [
    "#\n",
    "# Calculate the probability to keep any given item in a bin\n",
    "# based on the count above/below the desired count per bin.\n",
    "#\n",
    "keep_probabilities = np.float32(1 / (bin_counts / desired_count_per_bin))\n",
    "\n",
    "def should_keep(item):\n",
    "    #\n",
    "    # calc the probability to keep this item based on \n",
    "    # what bin it is in. \n",
    "    #\n",
    "    probability_to_keep = keep_probabilities[np.digitize(item.angle, bins) - 1]\n",
    "    \n",
    "    #\n",
    "    # get a random percentage\n",
    "    #\n",
    "    random_prob = np.random.uniform(0, 1)\n",
    "    \n",
    "    #\n",
    "    # if the random percentage is less that the probability\n",
    "    # to keep we keep it. (return True)\n",
    "    # \n",
    "    return (random_prob <= probability_to_keep)\n",
    "\n",
    "#\n",
    "# Trim extra examples from the data set to fix distribution\n",
    "#\n",
    "trimmed_training_set = [x for x in training_set if should_keep(x)]\n",
    "\n",
    "print(\"Training set size {}\".format(str(len(trimmed_training_set))))\n",
    "\n",
    "#\n",
    "# re-plot to visualize the new distribution\n",
    "#\n",
    "corrections = [x.angle for x in trimmed_training_set]\n",
    "bin_counts, bins = np.histogram(corrections, bins)\n",
    "plt.bar(bins, np.append(bin_counts, 0), width=0.06)\n",
    "plt.title(\"Distribution corrected\")\n",
    "plt.show()"
   ]
  }
 ],
 "metadata": {
  "kernelspec": {
   "display_name": "Python 3",
   "language": "python",
   "name": "python3"
  },
  "language_info": {
   "codemirror_mode": {
    "name": "ipython",
    "version": 3
   },
   "file_extension": ".py",
   "mimetype": "text/x-python",
   "name": "python",
   "nbconvert_exporter": "python",
   "pygments_lexer": "ipython3",
   "version": "3.5.2"
  },
  "widgets": {
   "state": {},
   "version": "1.1.2"
  }
 },
 "nbformat": 4,
 "nbformat_minor": 2
}
