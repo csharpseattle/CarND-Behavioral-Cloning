{
 "cells": [
  {
   "cell_type": "code",
   "execution_count": 1,
   "metadata": {},
   "outputs": [
    {
     "name": "stderr",
     "output_type": "stream",
     "text": [
      "Using TensorFlow backend.\n"
     ]
    },
    {
     "name": "stdout",
     "output_type": "stream",
     "text": [
      "center_2018_10_21_08_58_27_138.jpg\n"
     ]
    },
    {
     "data": {
      "text/plain": [
       "<Figure size 2400x900 with 2 Axes>"
      ]
     },
     "metadata": {},
     "output_type": "display_data"
    }
   ],
   "source": [
    "from keras import backend\n",
    "from keras.layers.convolutional import Cropping2D\n",
    "from keras.layers import Reshape\n",
    "from keras.models import Sequential\n",
    "import cv2\n",
    "import numpy as np\n",
    "import matplotlib.pyplot as plt\n",
    "%matplotlib inline\n",
    "from os import listdir\n",
    "\n",
    "filename = listdir('data/IMG')[0]\n",
    "image = cv2.imread('data/IMG/' + filename)\n",
    "image = cv2.cvtColor(image, cv2.COLOR_BGR2RGB)\n",
    "print(filename)\n",
    "\n",
    "#\n",
    "# create cropping model\n",
    "#\n",
    "model = Sequential()\n",
    "model.add(Cropping2D(cropping=((50, 20), (0, 0)), input_shape=(160, 320, 3)))\n",
    "\n",
    "\n",
    "#\n",
    "# Use the cropping layer as our input and output tensors\n",
    "#\n",
    "layer_output = backend.function([model.layers[0].input], [model.layers[0].output])\n",
    "cropped_image = layer_output([image[None,...]])[0][0]\n",
    "\n",
    "#\n",
    "# convert to uint8 for visualization\n",
    "# \n",
    "cropped_image = np.uint8(cropped_image)\n",
    "\n",
    "\n",
    "#\n",
    "# and plot side by side.\n",
    "# \n",
    "f, (ax1, ax2) = plt.subplots(1, 2, figsize=(24, 9))\n",
    "f.tight_layout()\n",
    "ax1.imshow(image)\n",
    "ax1.set_title('Orig: '+ str(image.shape), fontsize=50)\n",
    "ax2.imshow(cropped_image)\n",
    "ax2.set_title('cropped: '+ str(cropped_image.shape), fontsize=50)\n",
    "plt.show()\n"
   ]
  },
  {
   "cell_type": "code",
   "execution_count": null,
   "metadata": {},
   "outputs": [],
   "source": []
  }
 ],
 "metadata": {
  "kernelspec": {
   "display_name": "Python 3",
   "language": "python",
   "name": "python3"
  },
  "language_info": {
   "codemirror_mode": {
    "name": "ipython",
    "version": 3
   },
   "file_extension": ".py",
   "mimetype": "text/x-python",
   "name": "python",
   "nbconvert_exporter": "python",
   "pygments_lexer": "ipython3",
   "version": "3.5.2"
  },
  "widgets": {
   "state": {},
   "version": "1.1.2"
  }
 },
 "nbformat": 4,
 "nbformat_minor": 2
}
